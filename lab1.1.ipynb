{
 "cells": [
  {
   "cell_type": "markdown",
   "id": "5e3bddfa-3d21-4a8c-852e-6188e7765672",
   "metadata": {},
   "source": [
    "**Виконав:** *Хорунжа Ілля Олегович*\n",
    "\n",
    "**Завдання:** *За  допомогою  мови  Markdown  та  HTML  тегів  для  країни, відповідно  до  свого  номеру  варіанту  (див.  табл.3.1),  ввести інформацію щодо площини, населення, державного устрою, видатних персоналій,  пам’яток  культури  та  природи  тощо.  При  оформленні інформації повинні бути використані:˗заголовки різних рівнів;˗різні види накреслення символів (курсив, напівжирний тощо);˗символи різних кольорів; ˗рамки навколо тексту;˗таблиці;˗вкладені списки;˗картинки за допомогою посилань та вбудовані;˗гіперпосилання;˗за допомогою HTML тегу <svg> нарисуватифлаг країни.(Гайана)*\n",
    "\n",
    "# Інформація про Гайану\n",
    "\n",
    "## Площа\n",
    "Площа країни: *214,969* км².\n",
    "\n",
    "## Населення\n",
    "Загальне населення: **близько 780,000** осіб.\n",
    "\n",
    "## Державний устрій\n",
    "Гайана є *президентською республікою*, де президент виконує функції глави держави та уряду.\n",
    "\n",
    "## Видатні персоналії\n",
    "- **Артур Раймонд Чан**: Перший президент Гайани. \n",
    "- **Г'ю Дезмонд Гойт**: Прем\\'єр-міністр і відомий політичний лідер.\n",
    "\n",
    "## Пам'ятки культури та природи\n",
    "1. **Церква Святого Георгія**: Видатна пам'ятка Джорджтауну.\n",
    "2. **Водоcпад Кайетур**: Знаходиться у заповіднику з тою же назвою.\n",
    "\n",
    "## Визначні пам'ятки\n",
    "<img src=\"https://cdn2.tu-tu.ru/image/pagetree_node_data/1/0c494ee2b65d48c45230859da83a4b97/\" alt=\"Церква Святого Георгія\" width=\"300\"/>\n",
    "<img src=\"https://cdn2.tu-tu.ru/image/pagetree_node_data/1/50df6b87ab1af77d4b8db98902450909/\" alt=\"Водоcпад Кайетур\" width=\"300\"/>\n",
    "<a href=\"https://uk.wikipedia.org/wiki/%D0%93%D0%B0%D0%B9%D0%B0%D0%BD%D0%B0\">Гайана на Википедії</a>\n"
   ]
  },
  {
   "cell_type": "code",
   "execution_count": 3,
   "id": "0ca3ec1f-b8da-40da-a1ff-163d0b5c4de5",
   "metadata": {},
   "outputs": [
    {
     "data": {
      "text/html": [
       "<svg xmlns=\"http://www.w3.org/2000/svg\" width=\"600\" height=\"400\" viewBox=\"0 0 100 60\">\n",
       "\t<title>Flag of Guyana</title>\n",
       "\t<defs>\n",
       "\t\t<clipPath id=\"w\">\n",
       "\t\t\t<path d=\"m0 0 100 30L0 60z\"/>\n",
       "\t\t</clipPath>\n",
       "\t\t<clipPath id=\"b\">\n",
       "\t\t\t<path d=\"m0 0 50 30L0 60z\"/>\n",
       "\t\t</clipPath>\n",
       "\t</defs>\n",
       "\t<path fill=\"#2A936A\" d=\"m0 0h100v60H0z\"/>\n",
       "\t<path clip-path=\"url(#w)\" fill=\"#FFC20E\" stroke=\"#fff\" stroke-width=\"4\" d=\"m0 0 100 30L0 60\"/>\n",
       "\t<path clip-path=\"url(#b)\" fill=\"#BE1E2D\" stroke=\"#000\" stroke-width=\"4\" d=\"m0 0 50 30L0 60\"/>\n",
       "</svg>\n"
      ],
      "text/plain": [
       "<IPython.core.display.HTML object>"
      ]
     },
     "metadata": {},
     "output_type": "display_data"
    }
   ],
   "source": [
    "%%HTML\n",
    "<svg xmlns=\"http://www.w3.org/2000/svg\" width=\"600\" height=\"400\" viewBox=\"0 0 100 60\">\n",
    "\t<title>Flag of Guyana</title>\n",
    "\t<defs>\n",
    "\t\t<clipPath id=\"w\">\n",
    "\t\t\t<path d=\"m0 0 100 30L0 60z\"/>\n",
    "\t\t</clipPath>\n",
    "\t\t<clipPath id=\"b\">\n",
    "\t\t\t<path d=\"m0 0 50 30L0 60z\"/>\n",
    "\t\t</clipPath>\n",
    "\t</defs>\n",
    "\t<path fill=\"#2A936A\" d=\"m0 0h100v60H0z\"/>\n",
    "\t<path clip-path=\"url(#w)\" fill=\"#FFC20E\" stroke=\"#fff\" stroke-width=\"4\" d=\"m0 0 100 30L0 60\"/>\n",
    "\t<path clip-path=\"url(#b)\" fill=\"#BE1E2D\" stroke=\"#000\" stroke-width=\"4\" d=\"m0 0 50 30L0 60\"/>\n",
    "</svg>"
   ]
  },
  {
   "cell_type": "code",
   "execution_count": null,
   "id": "f5dfaaae-4c16-452e-803e-ae40d4a140a7",
   "metadata": {},
   "outputs": [],
   "source": []
  }
 ],
 "metadata": {
  "kernelspec": {
   "display_name": "Python 3 (ipykernel)",
   "language": "python",
   "name": "python3"
  },
  "language_info": {
   "codemirror_mode": {
    "name": "ipython",
    "version": 3
   },
   "file_extension": ".py",
   "mimetype": "text/x-python",
   "name": "python",
   "nbconvert_exporter": "python",
   "pygments_lexer": "ipython3",
   "version": "3.11.8"
  }
 },
 "nbformat": 4,
 "nbformat_minor": 5
}
