{
 "cells": [
  {
   "cell_type": "code",
   "execution_count": 19,
   "id": "f19d4025-995c-40fe-b18b-39b4391dfa94",
   "metadata": {},
   "outputs": [],
   "source": [
    "#Виконав Хорунжа Ілля Олегович\n",
    "#Завдання: Розробитифункцію  для  реалізації  алгоритму,  відповідно  до номеру  свого  варіанту  з  табл.4.2.  \n",
    "#Для  створеної  функції  реалізувати 2-3  тестові  приклади  в  комірках  ноутбуку.  Для  всіх  варіантів організуватиконтроль значень, що вводяться.\n",
    "#\n",
    "def find_mid(inp_lst):\n",
    "    if not inp_lst:\n",
    "        return \"Список порожній, неможливо знайти середину.\"\n",
    "    sorted_lst = sorted(inp_lst)\n",
    "    mid_idx = len(sorted_lst) // 2\n",
    "    if len(sorted_lst) % 2 == 0:\n",
    "        return sorted_lst[mid_idx - 1], sorted_lst[mid_idx]\n",
    "    else:\n",
    "        return sorted_lst[mid_idx]\n",
    "\n",
    "def val_input(inp_str):\n",
    "    try:\n",
    "        nums = list(map(int, inp_str.strip().split()))\n",
    "        return nums\n",
    "    except ValueError:\n",
    "        print(\"Помилка: Будь ласка, введіть список цілих чисел, розділених пробілами.\")\n",
    "        return None\n",
    "\n",
    "def task():\n",
    "    inp_str = input(\"Введіть список цілих чисел, розділених пробілами: \")\n",
    "    numbers = val_input(inp_str)\n",
    "    if numbers:\n",
    "        sorted_numbers = sorted(numbers)\n",
    "        print(f\"Відсортований список: {sorted_numbers}\")\n",
    "        result = find_mid(sorted_numbers)\n",
    "        print(f\"Середина відсортованого списку: {result}\")\n",
    "\n"
   ]
  },
  {
   "cell_type": "code",
   "execution_count": 20,
   "id": "57a0b083-b181-4e0f-a614-41cf0a5da848",
   "metadata": {},
   "outputs": [
    {
     "name": "stdout",
     "output_type": "stream",
     "text": [
      "Відсортований список: [1, 2, 3, 4, 5]\n",
      "Середина відсортованого списку: 3\n"
     ]
    }
   ],
   "source": [
    "input_list1 = [3, 1, 4, 2, 5]\n",
    "sorted_list1 = sorted(input_list1)\n",
    "print(f\"Відсортований список: {sorted_list1}\")\n",
    "print(f\"Середина відсортованого списку: {find_mid(input_list1)}\")"
   ]
  },
  {
   "cell_type": "code",
   "execution_count": 21,
   "id": "65dcb124-7a61-4536-93b6-a347f09ce03c",
   "metadata": {},
   "outputs": [
    {
     "name": "stdout",
     "output_type": "stream",
     "text": [
      "Відсортований список: [2, 4, 7, 9]\n",
      "Середина відсортованого списку: (4, 7)\n"
     ]
    }
   ],
   "source": [
    "input_list2 = [7, 9, 2, 4]\n",
    "sorted_list2 = sorted(input_list2)\n",
    "print(f\"Відсортований список: {sorted_list2}\")\n",
    "print(f\"Середина відсортованого списку: {find_mid(input_list2)}\")"
   ]
  },
  {
   "cell_type": "code",
   "execution_count": 22,
   "id": "e2124754-1a59-45f4-82a8-dd2b663cf021",
   "metadata": {},
   "outputs": [
    {
     "name": "stdout",
     "output_type": "stream",
     "text": [
      "Відсортований список: []\n",
      "Середина відсортованого списку: Список порожній, неможливо знайти середину.\n"
     ]
    }
   ],
   "source": [
    "input_list3 = []\n",
    "print(f\"Відсортований список: {input_list3}\")\n",
    "print(f\"Середина відсортованого списку: {find_mid(input_list3)}\")\n"
   ]
  },
  {
   "cell_type": "code",
   "execution_count": 23,
   "id": "e5415df7-a862-453c-a4c2-f31535a3d82a",
   "metadata": {},
   "outputs": [
    {
     "name": "stdout",
     "output_type": "stream",
     "text": [
      "Відсортований список: [8]\n",
      "Середина відсортованого списку: 8\n"
     ]
    }
   ],
   "source": [
    "input_list4 = [8]\n",
    "sorted_list4 = sorted(input_list4)\n",
    "print(f\"Відсортований список: {sorted_list4}\")\n",
    "print(f\"Середина відсортованого списку: {find_mid(input_list4)}\")"
   ]
  }
 ],
 "metadata": {
  "kernelspec": {
   "display_name": "Python 3 (ipykernel)",
   "language": "python",
   "name": "python3"
  },
  "language_info": {
   "codemirror_mode": {
    "name": "ipython",
    "version": 3
   },
   "file_extension": ".py",
   "mimetype": "text/x-python",
   "name": "python",
   "nbconvert_exporter": "python",
   "pygments_lexer": "ipython3",
   "version": "3.11.8"
  }
 },
 "nbformat": 4,
 "nbformat_minor": 5
}
